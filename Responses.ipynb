{
 "cells": [
  {
   "cell_type": "code",
   "execution_count": null,
   "metadata": {},
   "outputs": [],
   "source": [
    "from datetime import datetime\n",
    "\n",
    "# Some easy bot responses\n",
    "def some_responses(input_text):\n",
    "    user_message = str(input_text).lower()\n",
    "    \n",
    "    if user_message in (\"hello\", \"hi\", \"hola\"):\n",
    "        return \"Hey! How are you?\"\n",
    "    \n",
    "    if user_message in (\"good\", \"very well\"):\n",
    "        return \"Fantastic!\"\n",
    "    \n",
    "    if user_message in (\"bad\", \"not good\"):\n",
    "        return \"Cheer up! :)\"\n",
    "    \n",
    "    if user_message in (\"time\", \"time?\"):\n",
    "        now = datetime.now()\n",
    "        date_time = now.strftime(\"%d/%m/%y, %H:%M:%S\")\n",
    "        return str(date_time)\n",
    "\n",
    "    return \"I don't understand you, try again please\""
   ]
  }
 ],
 "metadata": {
  "kernelspec": {
   "display_name": "Python 3",
   "language": "python",
   "name": "python3"
  },
  "language_info": {
   "codemirror_mode": {
    "name": "ipython",
    "version": 3
   },
   "file_extension": ".py",
   "mimetype": "text/x-python",
   "name": "python",
   "nbconvert_exporter": "python",
   "pygments_lexer": "ipython3",
   "version": "3.7.6"
  }
 },
 "nbformat": 4,
 "nbformat_minor": 4
}
